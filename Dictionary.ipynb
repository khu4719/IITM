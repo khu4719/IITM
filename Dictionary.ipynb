{
 "cells": [
  {
   "cell_type": "code",
   "execution_count": 1,
   "id": "7ae3ea70-229e-4cec-9cea-000777196a28",
   "metadata": {},
   "outputs": [
    {
     "name": "stdout",
     "output_type": "stream",
     "text": [
      "dict_keys(['name', 'class'])\n"
     ]
    }
   ],
   "source": [
    "#Dictionary\n",
    "#Accessing by Methods\n",
    "\n",
    "a={'name':'khushi','class':10}\n",
    "b=a.keys()\n",
    "print(b)"
   ]
  },
  {
   "cell_type": "code",
   "execution_count": 2,
   "id": "9ef5dbba-d331-47bc-9c01-453ef46e7421",
   "metadata": {},
   "outputs": [
    {
     "name": "stdout",
     "output_type": "stream",
     "text": [
      "dict_values(['khushi', 10])\n"
     ]
    }
   ],
   "source": [
    "a={'name':'khushi','class':10}\n",
    "b=a.values()\n",
    "print(b)"
   ]
  },
  {
   "cell_type": "code",
   "execution_count": 7,
   "id": "59ced5e3-2ec9-4295-8a9d-4fc4909d131d",
   "metadata": {},
   "outputs": [
    {
     "name": "stdout",
     "output_type": "stream",
     "text": [
      "dict_items([('name', 'khushi'), ('class', 10)])\n"
     ]
    }
   ],
   "source": [
    "a={'name':'khushi','class':10}\n",
    "b=a.items()\n",
    "print(b)"
   ]
  },
  {
   "cell_type": "code",
   "execution_count": 16,
   "id": "e5e91c7e-f8a1-4b75-b03f-31dce36694b1",
   "metadata": {},
   "outputs": [
    {
     "name": "stdout",
     "output_type": "stream",
     "text": [
      "['khushi', 'ram', 'kishan']\n",
      "{'class': [10, 20, 30]}\n"
     ]
    }
   ],
   "source": [
    "a={'name':['khushi','ram','kishan'],'class':[10,20,30]}\n",
    "b=a.pop('name')\n",
    "print(b)\n",
    "print(a)"
   ]
  },
  {
   "cell_type": "code",
   "execution_count": 17,
   "id": "8c8ac7f9-3f6b-4fb5-84d7-92daf8a64a52",
   "metadata": {},
   "outputs": [
    {
     "name": "stdout",
     "output_type": "stream",
     "text": [
      "None\n",
      "{}\n"
     ]
    }
   ],
   "source": [
    "a={'name':['khushi','ram','kishan'],'class':[10,20,30]}\n",
    "b=a.clear()\n",
    "print(b)\n",
    "print(a)"
   ]
  },
  {
   "cell_type": "code",
   "execution_count": 33,
   "id": "b19ce56b-93c5-4fc7-afe3-037aeec985f3",
   "metadata": {},
   "outputs": [
    {
     "name": "stdout",
     "output_type": "stream",
     "text": [
      "{'Khushi': 80, 'Kritika': 95, 'Rashi': 75}\n"
     ]
    }
   ],
   "source": [
    "# Minor Project of Student Marks Management\n",
    "a={'Khushi':80, 'Kritika':95, 'Rashi':75}\n",
    "print(a)"
   ]
  },
  {
   "cell_type": "code",
   "execution_count": 32,
   "id": "4ac254c7-c08a-4ffa-9a0d-f430623f5052",
   "metadata": {},
   "outputs": [
    {
     "name": "stdout",
     "output_type": "stream",
     "text": [
      "{'Khushi': 80, 'Kritika': 95, 'Rashi': 75}\n",
      "{'Khushi': 85, 'Kritika': 90, 'Rashi': 80}\n"
     ]
    }
   ],
   "source": [
    "a={'Khushi':80, 'Kritika':95, 'Rashi':75}\n",
    "print(a)\n",
    "a.update({'Khushi': 85 ,'Kritika': 90 ,'Rashi': 80})\n",
    "print(a)"
   ]
  },
  {
   "cell_type": "code",
   "execution_count": 7,
   "id": "cfd1b4e5-2ef7-412b-a77f-ddb0f4c4fc84",
   "metadata": {},
   "outputs": [
    {
     "name": "stdout",
     "output_type": "stream",
     "text": [
      "{'Khushi': 80, 'Kritika': 95, 'Rashi': 75}\n",
      "[{'Isha': 95}]\n",
      "{'Khushi': 80, 'Kritika': 95, 'Rashi': 75, 'Isha': 95}\n"
     ]
    }
   ],
   "source": [
    "a={'Khushi':80, 'Kritika':95, 'Rashi':75}\n",
    "print(a)\n",
    "b=[]\n",
    "b.append({'Isha':95})\n",
    "print(b)\n",
    "merged={**a,**b[0]}\n",
    "print(merged)"
   ]
  },
  {
   "cell_type": "code",
   "execution_count": 9,
   "id": "1c93c031-aa5c-41e1-99a5-db92049024e1",
   "metadata": {},
   "outputs": [
    {
     "name": "stdout",
     "output_type": "stream",
     "text": [
      "{'Khushi': 80, 'Kritika': 95, 'Rashi': 75}\n",
      "95\n",
      "Kritika\n"
     ]
    }
   ],
   "source": [
    "a={'Khushi':80, 'Kritika':95, 'Rashi':75}\n",
    "print(a)\n",
    "max_value=max(a.values())\n",
    "print(max_value)\n",
    "topper=max(a, key=a.get)\n",
    "print(topper)"
   ]
  },
  {
   "cell_type": "code",
   "execution_count": null,
   "id": "47886509-3a0d-4938-bae6-528df06680c0",
   "metadata": {},
   "outputs": [],
   "source": []
  }
 ],
 "metadata": {
  "kernelspec": {
   "display_name": "Python 3 (ipykernel)",
   "language": "python",
   "name": "python3"
  },
  "language_info": {
   "codemirror_mode": {
    "name": "ipython",
    "version": 3
   },
   "file_extension": ".py",
   "mimetype": "text/x-python",
   "name": "python",
   "nbconvert_exporter": "python",
   "pygments_lexer": "ipython3",
   "version": "3.12.4"
  }
 },
 "nbformat": 4,
 "nbformat_minor": 5
}
