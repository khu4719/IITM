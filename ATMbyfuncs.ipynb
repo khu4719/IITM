{
 "cells": [
  {
   "cell_type": "code",
   "execution_count": 8,
   "id": "b31f2031-b31b-431e-8fe5-65514ba28b73",
   "metadata": {},
   "outputs": [
    {
     "name": "stdout",
     "output_type": "stream",
     "text": [
      "-------Welcome to HDFC Bank-------\n"
     ]
    },
    {
     "name": "stdin",
     "output_type": "stream",
     "text": [
      "Enter your Card card\n"
     ]
    },
    {
     "name": "stdout",
     "output_type": "stream",
     "text": [
      "Welcome!\n"
     ]
    },
    {
     "name": "stdin",
     "output_type": "stream",
     "text": [
      "Enter your pin 1234\n"
     ]
    },
    {
     "name": "stdout",
     "output_type": "stream",
     "text": [
      "\t\t\t\t\t\t\t1) Check Balance\n",
      "\t\t\t\t\t\t\t2) Cash Withdraw\n"
     ]
    },
    {
     "name": "stdin",
     "output_type": "stream",
     "text": [
      "Select your option 2\n",
      "Enter your amount 5000\n"
     ]
    },
    {
     "name": "stdout",
     "output_type": "stream",
     "text": [
      "Your current balance is: 5000\n"
     ]
    }
   ],
   "source": [
    "# Real-World Virtual ATM Machine Minor Project Using Functions\n",
    "print(\"-------Welcome to HDFC Bank-------\")\n",
    "amount=10000\n",
    "pin=1234\n",
    "def card():\n",
    "    if \"card\"==input(\"Enter your Card\"):\n",
    "        print(\"Welcome!\")\n",
    "    else:\n",
    "        print(\"Invalid Card\")\n",
    "card()\n",
    "\n",
    "def pin1():\n",
    "    if pin==int(input(\"Enter your pin\")):\n",
    "        print(\"\\t\\t\\t\\t\\t\\t\\t1) Check Balance\\n\\t\\t\\t\\t\\t\\t\\t2) Cash Withdraw\")\n",
    "        option()\n",
    "    else:\n",
    "        print(\"Wrong Pin\")\n",
    "pin1()\n",
    "\n",
    "def check():\n",
    "    print(\"Your current balance is:\",amount)\n",
    "\n",
    "def withdraw():\n",
    "    user_amount=int(input(\"Enter your amount\"))\n",
    "    print(\"Your current balance is:\",amount-user_amount)\n",
    "    \n",
    "def option():\n",
    "    option=int(input(\"Select your option\"))\n",
    "    if option==1:\n",
    "        check()\n",
    "    elif option==2:\n",
    "        withdraw()\n",
    "    else:\n",
    "        print(\"Invalid Input\")\n"
   ]
  },
  {
   "cell_type": "markdown",
   "id": "5de72555-9410-4109-8a05-3ea0bdd0aa06",
   "metadata": {},
   "source": [
    "# "
   ]
  }
 ],
 "metadata": {
  "kernelspec": {
   "display_name": "Python 3 (ipykernel)",
   "language": "python",
   "name": "python3"
  },
  "language_info": {
   "codemirror_mode": {
    "name": "ipython",
    "version": 3
   },
   "file_extension": ".py",
   "mimetype": "text/x-python",
   "name": "python",
   "nbconvert_exporter": "python",
   "pygments_lexer": "ipython3",
   "version": "3.12.4"
  }
 },
 "nbformat": 4,
 "nbformat_minor": 5
}
