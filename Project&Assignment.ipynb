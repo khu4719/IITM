{
 "cells": [
  {
   "cell_type": "code",
   "execution_count": 12,
   "id": "36351fa1-26a2-4b4b-97d9-a42c778b00e3",
   "metadata": {},
   "outputs": [
    {
     "name": "stdout",
     "output_type": "stream",
     "text": [
      "\t\t\t\t\t\t\tWelcome to HDFC ATM\n"
     ]
    },
    {
     "name": "stdin",
     "output_type": "stream",
     "text": [
      "Insert your card card\n"
     ]
    },
    {
     "name": "stdout",
     "output_type": "stream",
     "text": [
      "Welcome\n"
     ]
    },
    {
     "name": "stdin",
     "output_type": "stream",
     "text": [
      "Enter your pin 1234\n"
     ]
    },
    {
     "name": "stdout",
     "output_type": "stream",
     "text": [
      "\t\t\t\t\t\t\t1) Check Balance\n",
      "\t\t\t\t\t\t\t2) Cash Withdraw\n"
     ]
    },
    {
     "name": "stdin",
     "output_type": "stream",
     "text": [
      "Select your option 1\n"
     ]
    },
    {
     "name": "stdout",
     "output_type": "stream",
     "text": [
      "Your current balance is: 10000\n"
     ]
    }
   ],
   "source": [
    "# Real-World Virtual ATM Machine Minor Project\n",
    "amount=10000\n",
    "pin=1234\n",
    "print(\"\\t\\t\\t\\t\\t\\t\\tWelcome to HDFC ATM\")\n",
    "if \"card\"==input(\"Insert your card\"):\n",
    "    print(\"Welcome\")\n",
    "    if pin==int(input(\"Enter your pin\")):\n",
    "        print(\"\\t\\t\\t\\t\\t\\t\\t1) Check Balance\\n\\t\\t\\t\\t\\t\\t\\t2) Cash Withdraw\")\n",
    "        option=int(input(\"Select your option\"))\n",
    "        if option==1:\n",
    "            print(\"Your current balance is:\",amount)\n",
    "        elif option==2:\n",
    "            user_amount=int(input(\"Enter your amount\"))\n",
    "            print(\"Your current balance is:\",amount-user_amount)\n",
    "        else:\n",
    "            print(\"Invalid Input\")\n",
    "    else:\n",
    "        print(\"Wrong Pin\")\n",
    "else:\n",
    "    print(\"Invalid Card\")"
   ]
  },
  {
   "cell_type": "code",
   "execution_count": 14,
   "id": "d32adf91-ecf4-4f4b-9bf6-c075f9cb2494",
   "metadata": {},
   "outputs": [
    {
     "name": "stdin",
     "output_type": "stream",
     "text": [
      "Enter your age 10\n"
     ]
    },
    {
     "name": "stdout",
     "output_type": "stream",
     "text": [
      "Not Eligible for vote\n"
     ]
    }
   ],
   "source": [
    "# Minor Project Age Checker - Input age -> Output whether eligible for voting, driving, etc.\n",
    "age=int(input(\"Enter your age\"))\n",
    "if age>=18:\n",
    "    print(\"Eligible for vote\")\n",
    "else:\n",
    "    print(\"Not Eligible for vote\")"
   ]
  },
  {
   "cell_type": "code",
   "execution_count": 8,
   "id": "bd2021d3-87c3-41cf-a122-a43ca56261db",
   "metadata": {},
   "outputs": [
    {
     "name": "stdin",
     "output_type": "stream",
     "text": [
      "Enter the 1st Number 20\n",
      "Enter the 2nd Number 40\n",
      "Enter Operator to perform *\n"
     ]
    },
    {
     "name": "stdout",
     "output_type": "stream",
     "text": [
      "The Product is:  800\n"
     ]
    }
   ],
   "source": [
    "# Minor Project Simple calculator - Choose operation (+,-,*,/) -> Output result\n",
    "value1=int(input(\"Enter the 1st Number\"))\n",
    "value2=int(input(\"Enter the 2nd Number\"))\n",
    "expression=input(\"Enter Operator to perform\")\n",
    "if expression==\"+\":\n",
    "    print(\"The Sum is: \", value1+value2)\n",
    "elif expression==\"-\":\n",
    "    print(\"The Difference is: \", value1-value2)\n",
    "elif expression==\"*\":\n",
    "    print(\"The Product is: \", value1*value2)\n",
    "elif expression==\"/\":\n",
    "    print(\"The Division is: \", value1/value2)\n",
    "else:\n",
    "    print(\"Invalid Data\")"
   ]
  },
  {
   "cell_type": "code",
   "execution_count": 7,
   "id": "a3314f5f-dfee-4483-8a88-97ad87905b17",
   "metadata": {},
   "outputs": [
    {
     "name": "stdout",
     "output_type": "stream",
     "text": [
      "Total Marks:  100\n"
     ]
    },
    {
     "name": "stdin",
     "output_type": "stream",
     "text": [
      "Enter your marks 30\n"
     ]
    },
    {
     "name": "stdout",
     "output_type": "stream",
     "text": [
      "30\n",
      "D\n"
     ]
    }
   ],
   "source": [
    "# Minor Project Grade calculator - Input marks -> Output grade(A,B,C,etc.)\n",
    "total=100\n",
    "print(\"Total Marks: \",total)\n",
    "marks=int(input(\"Enter your marks\"))\n",
    "print(marks)\n",
    "if marks<=100 and marks>=80:\n",
    "    print(\"A\")\n",
    "elif marks<80 and marks>=60:\n",
    "    print(\"B\")\n",
    "elif marks<60 and marks>=40:\n",
    "    print(\"C\")\n",
    "elif marks<40 and marks>=20:\n",
    "    print(\"D\")\n",
    "elif marks<20 and marks>=0:\n",
    "    print(\"E\")\n",
    "else:\n",
    "    print(\"Invalid Marks\")"
   ]
  },
  {
   "cell_type": "code",
   "execution_count": 20,
   "id": "1754e709-81a0-4634-b26c-7ac98403c184",
   "metadata": {},
   "outputs": [
    {
     "name": "stdin",
     "output_type": "stream",
     "text": [
      "Enter your age 17\n",
      "Enter your ticket price 100\n"
     ]
    },
    {
     "name": "stdout",
     "output_type": "stream",
     "text": [
      "70.0\n"
     ]
    }
   ],
   "source": [
    "# Real-World Mini Project of Bus ticket fare calculator (with age-based discount)\n",
    "age=int(input(\"Enter your age\"))\n",
    "ticket=float(input(\"Enter your ticket price\"))\n",
    "if age<=90 and age>75:\n",
    "    dis=0.10*ticket\n",
    "    print(ticket-dis)\n",
    "elif age<=75 and age>65:\n",
    "    dis=0.7*ticket\n",
    "    print(ticket-dis)\n",
    "elif age<=65 and age>45:\n",
    "    dis=0.5*ticket\n",
    "    print(ticket-dis)\n",
    "elif age<=45 and age>30:\n",
    "    dis=0.4*ticket\n",
    "    print(ticket-dis)\n",
    "elif age<=30 and age>8:\n",
    "    dis=0.3*ticket\n",
    "    print(ticket-dis)\n",
    "elif age<=8 and age>1:\n",
    "    print(\"Free\")\n",
    "else:\n",
    "    print(\"Invalid Age\")"
   ]
  },
  {
   "cell_type": "code",
   "execution_count": 1,
   "id": "c43aa169-9f5b-47ae-a413-5bff088e322e",
   "metadata": {},
   "outputs": [
    {
     "name": "stdin",
     "output_type": "stream",
     "text": [
      "Enter your units 300\n"
     ]
    },
    {
     "name": "stdout",
     "output_type": "stream",
     "text": [
      "Elcetricity Bill is: 750.0\n"
     ]
    }
   ],
   "source": [
    "# Real-World Mini Project of Electricity Bill Generator (based on units) \n",
    "Priceperunit=2.5\n",
    "units=float(input(\"Enter your units\"))\n",
    "if units>=200:\n",
    "    print(\"Elcetricity Bill is:\", units*2.5)\n",
    "else:\n",
    "    print(\"Electricity Bill is free\")"
   ]
  },
  {
   "cell_type": "code",
   "execution_count": 4,
   "id": "7247397f-d165-4f38-86b4-ba0a0837f510",
   "metadata": {},
   "outputs": [
    {
     "name": "stdout",
     "output_type": "stream",
     "text": [
      "The library fine for not returning the books after 5 days will be Rs.50 which is fixed\n"
     ]
    },
    {
     "name": "stdin",
     "output_type": "stream",
     "text": [
      "Enter the days 7\n"
     ]
    },
    {
     "name": "stdout",
     "output_type": "stream",
     "text": [
      "Library Fine 100\n"
     ]
    }
   ],
   "source": [
    "# Real-World Mini Project of Library fine calculator (based on overdue days)\n",
    "print(\"The library fine for not returning the books after 5 days will be Rs.50 which is fixed\")\n",
    "duedays=int(input(\"Enter the days\"))\n",
    "if duedays>5:\n",
    "    print(\"Library Fine\", (duedays-5)*50)\n",
    "else: \n",
    "    print(\"No fine!\")"
   ]
  },
  {
   "cell_type": "code",
   "execution_count": null,
   "id": "553b5f55-10bd-43c2-9c8d-47557a620fb6",
   "metadata": {},
   "outputs": [],
   "source": [
    "# Real-World Mini Project Simple Login System (with 3 attempts)\n",
    "print(\"\\t\\t\\t\\t\\t\\t--LOGIN SYSTEM--\")\n",
    "count=1\n",
    "password=int(input(\"Enter the Password\"))\n",
    "while count<=2:\n",
    "    if password==1234:\n",
    "        print(\"Welcome!\")\n",
    "        break\n",
    "    else:\n",
    "        print(\"Try Again\")\n",
    "        password=int(input())\n",
    "print(\"End of Execution\")"
   ]
  },
  {
   "cell_type": "code",
   "execution_count": null,
   "id": "619cde35-4ac0-4354-a50e-e5775561d70e",
   "metadata": {},
   "outputs": [],
   "source": []
  }
 ],
 "metadata": {
  "kernelspec": {
   "display_name": "Python 3 (ipykernel)",
   "language": "python",
   "name": "python3"
  },
  "language_info": {
   "codemirror_mode": {
    "name": "ipython",
    "version": 3
   },
   "file_extension": ".py",
   "mimetype": "text/x-python",
   "name": "python",
   "nbconvert_exporter": "python",
   "pygments_lexer": "ipython3",
   "version": "3.12.4"
  }
 },
 "nbformat": 4,
 "nbformat_minor": 5
}
