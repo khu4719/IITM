{
 "cells": [
  {
   "cell_type": "code",
   "execution_count": 15,
   "id": "39c5d0fe-d3fc-4b26-bb30-a86b3bca6589",
   "metadata": {},
   "outputs": [
    {
     "name": "stdout",
     "output_type": "stream",
     "text": [
      "-------Welcome to HDFC Bank-------\n"
     ]
    },
    {
     "name": "stdin",
     "output_type": "stream",
     "text": [
      "Enter your card card\n"
     ]
    },
    {
     "name": "stdout",
     "output_type": "stream",
     "text": [
      "Welcome!\n"
     ]
    },
    {
     "name": "stdin",
     "output_type": "stream",
     "text": [
      "Enter your pin 1234\n"
     ]
    },
    {
     "name": "stdout",
     "output_type": "stream",
     "text": [
      "\t\t\t\t\t\t\t1) Check Balance\n",
      "\t\t\t\t\t\t\t2) Cash Withdraw\n"
     ]
    },
    {
     "name": "stdin",
     "output_type": "stream",
     "text": [
      "Select your option 2\n",
      "Enter the amount 12\n"
     ]
    },
    {
     "name": "stdout",
     "output_type": "stream",
     "text": [
      "Your Current Balance is: 99988\n",
      "1234\n"
     ]
    }
   ],
   "source": [
    "#Real-World Virtual ATM Machine Minor Project\n",
    "print('-------Welcome to HDFC Bank-------')\n",
    "class Machine:\n",
    "    def __init__(self,amount=100000,pin=1234):\n",
    "        self.amount=amount\n",
    "        self.pin=pin\n",
    "    def card():\n",
    "        if 'card'==input(\"Enter your card\"):\n",
    "            print(\"Welcome!\")\n",
    "        else:\n",
    "            print(\"Invalid Card\")\n",
    "    card()\n",
    "    def pin1(self):\n",
    "        if self.pin==int(input(\"Enter your pin\")):\n",
    "            print(\"\\t\\t\\t\\t\\t\\t\\t1) Check Balance\\n\\t\\t\\t\\t\\t\\t\\t2) Cash Withdraw\")\n",
    "            p1.option()\n",
    "        else:\n",
    "            print(\"Wrong Pin\")\n",
    "        print(self.pin)\n",
    "    def check(self):\n",
    "        print(\"Your Current Balance is:\",self.amount)\n",
    "    def withdraw(self):\n",
    "        user_amount=int(input(\"Enter the amount\"))\n",
    "        print(\"Your Current Balance is:\",self.amount-user_amount) \n",
    "    def option(self):\n",
    "        option=int(input(\"Select your option\"))\n",
    "        if option==1:\n",
    "            p1.check()\n",
    "        elif option==2:\n",
    "            p1.withdraw()\n",
    "        else:\n",
    "            print(\"Invalid Input\")\n",
    "p1=Machine()\n",
    "p1.pin1()\n"
   ]
  },
  {
   "cell_type": "code",
   "execution_count": null,
   "id": "58733685-176a-4a9b-90e3-d30e46ac469f",
   "metadata": {},
   "outputs": [],
   "source": []
  }
 ],
 "metadata": {
  "kernelspec": {
   "display_name": "Python 3 (ipykernel)",
   "language": "python",
   "name": "python3"
  },
  "language_info": {
   "codemirror_mode": {
    "name": "ipython",
    "version": 3
   },
   "file_extension": ".py",
   "mimetype": "text/x-python",
   "name": "python",
   "nbconvert_exporter": "python",
   "pygments_lexer": "ipython3",
   "version": "3.12.4"
  }
 },
 "nbformat": 4,
 "nbformat_minor": 5
}
