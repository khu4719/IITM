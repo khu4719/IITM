{
 "cells": [
  {
   "cell_type": "code",
   "execution_count": 13,
   "id": "8bea0a00-e7e8-4ee2-a0ef-4491a4d6f308",
   "metadata": {},
   "outputs": [
    {
     "name": "stdout",
     "output_type": "stream",
     "text": [
      "  NAME  AGE  MARKS\n",
      "0    A   19   85.0\n",
      "1    B   25    NaN\n",
      "2    C   37   69.0\n",
      "\n",
      "\n",
      "  Name  Age     City\n",
      "3    D   69      Goa\n",
      "1    B   27   Mumbai\n",
      "0    A   24    Delhi\n",
      "2    C   12  Kolkata\n",
      "\n",
      "\n",
      "Sum 132\n",
      "Mean 33.0\n",
      "Max 69\n",
      "Min 12\n",
      "Count 4\n"
     ]
    }
   ],
   "source": [
    "#Functions to be performed in pandas \n",
    "\n",
    "import pandas as pd\n",
    "rt=pd.read_csv(r\"C:\\Users\\Student\\Desktop\\KHUSHI\\DATA.csv\")\n",
    "print(rt)\n",
    "print(\"\\n\")\n",
    "print(df.sort_values(by=\"Age\",ascending=False))\n",
    "print(\"\\n\")\n",
    "print(\"Sum\",df[\"Age\"].sum())\n",
    "print(\"Mean\",df[\"Age\"].mean())\n",
    "print(\"Max\",df[\"Age\"].max())\n",
    "print(\"Min\",df[\"Age\"].min())\n",
    "print(\"Count\",df[\"Age\"].count())"
   ]
  }
 ],
 "metadata": {
  "kernelspec": {
   "display_name": "Python 3 (ipykernel)",
   "language": "python",
   "name": "python3"
  },
  "language_info": {
   "codemirror_mode": {
    "name": "ipython",
    "version": 3
   },
   "file_extension": ".py",
   "mimetype": "text/x-python",
   "name": "python",
   "nbconvert_exporter": "python",
   "pygments_lexer": "ipython3",
   "version": "3.12.4"
  }
 },
 "nbformat": 4,
 "nbformat_minor": 5
}
